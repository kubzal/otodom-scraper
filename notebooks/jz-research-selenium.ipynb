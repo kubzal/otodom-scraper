{
 "cells": [
  {
   "cell_type": "code",
   "execution_count": null,
   "id": "656d845b-ef22-4d6c-9fda-23b1a06854b8",
   "metadata": {},
   "outputs": [],
   "source": [
    "import datetime\n",
    "import re\n",
    "import time\n",
    "\n",
    "import pandas as pd\n",
    "from bs4 import BeautifulSoup\n",
    "from selenium import webdriver\n",
    "from selenium.common.exceptions import NoSuchElementException\n",
    "from selenium.webdriver.common.action_chains import ActionChains\n",
    "from selenium.webdriver.common.by import By\n",
    "\n",
    "from sqlalchemy import create_engine\n",
    "\n",
    "from utils import get_creds"
   ]
  },
  {
   "cell_type": "code",
   "execution_count": null,
   "id": "20039238-cf54-4156-9503-cdcd863c6bfc",
   "metadata": {},
   "outputs": [],
   "source": [
    "def get_offers_ids(page_source):\n",
    "    \"\"\"\n",
    "    Takes otodom listing page and get all offer ids from that page\n",
    "    \"\"\"\n",
    "\n",
    "    soup = BeautifulSoup(page_source, \"html.parser\")\n",
    "\n",
    "    listing_items = soup.find_all(\"li\", {\"data-cy\": \"listing-item\"})\n",
    "\n",
    "    offer_urls = []\n",
    "    for item in listing_items:\n",
    "        a = item.find(\"a\", {\"data-cy\": \"listing-item-link\"})\n",
    "        href_array = a[\"href\"].split(\"/\")\n",
    "\n",
    "        offer_id = href_array[len(href_array) - 1]\n",
    "\n",
    "        offer_urls.append(offer_id)\n",
    "\n",
    "    return offer_urls"
   ]
  },
  {
   "cell_type": "code",
   "execution_count": null,
   "id": "af9be44f-fe77-4a83-9dd8-7421247bfc0b",
   "metadata": {},
   "outputs": [],
   "source": [
    "def save_df(df, csv=True, db=True):\n",
    "    \"\"\"\n",
    "    Saves otodom offer ids into CSV or/and DB table\n",
    "    \"\"\"\n",
    "    ## Save to CSV\n",
    "    if csv:\n",
    "        csv_path = f\"results_{datetime.datetime.now().strftime('%Y%m%d_%H%M%S')}.csv\"\n",
    "        df.to_csv(csv_path, index=False)\n",
    "        print(f\"Results saved into {csv_path}\")\n",
    "\n",
    "    ## Save to DB\n",
    "    if db:\n",
    "        # Get database credentials\n",
    "        credentials = get_credentials()\n",
    "\n",
    "        # Saving to PostgreSQL DB\n",
    "        engine = create_engine(\n",
    "            f\"postgresql://{username}:{password}@{host}:{port}/{database}\"\n",
    "        )\n",
    "\n",
    "        table_name = \"otodom_offers_ids\"\n",
    "        df.to_sql(table_name, engine, if_exists=\"append\", index=False)\n",
    "        print(f\"Results saved to PostgreSQL DB into table: {database}.{table_name}\")"
   ]
  },
  {
   "cell_type": "code",
   "execution_count": null,
   "id": "2fa93178-9e78-430c-9074-0c62033a3b4f",
   "metadata": {},
   "outputs": [],
   "source": [
    "def crawler(driver, actions, url):\n",
    "    \"\"\"\n",
    "    Crawls otodom listing to do some actions and\n",
    "    use pagination till its end\n",
    "    \"\"\"\n",
    "    driver.get(url)  # open URL in Browser\n",
    "    time.sleep(1)\n",
    "\n",
    "    try:\n",
    "        print(\"Accepting cookies\")\n",
    "        driver.find_element(\n",
    "            By.ID, \"onetrust-accept-btn-handler\"\n",
    "        ).click()  # accept cookies\n",
    "    except NoSuchElementException:\n",
    "        print(\"Cookies already accepted\")\n",
    "\n",
    "    driver.execute_script(\n",
    "        \"window.scrollTo(0, document.body.scrollHeight);\"\n",
    "    )  # scroll down\n",
    "\n",
    "    soup = BeautifulSoup(driver.page_source, \"html.parser\")  # get html\n",
    "\n",
    "    ## Find pages number\n",
    "    pages = soup.find_all(\"button\", {\"data-cy\": re.compile(\"^pagination.go-to-page-\")})\n",
    "    pages_numbers = [int(x.get_text()) for x in pages]\n",
    "    last_page_number = max(pages_numbers)\n",
    "\n",
    "    print(f\"Total pages: {last_page_number}\")\n",
    "\n",
    "    for i in range(0, 5):\n",
    "        print(f\"Current URL: {driver.current_url}\")\n",
    "        driver.execute_script(\n",
    "            \"window.scrollTo(0, document.body.scrollHeight);\"\n",
    "        )  # scroll down\n",
    "\n",
    "        ## Creatinfg df with offers ids\n",
    "        df = pd.DataFrame(get_offers_ids(driver.page_source), columns=[\"offer_id\"])\n",
    "        df.insert(loc=0, column=\"create_timestamp\", value=datetime.datetime.now())\n",
    "        df.insert(loc=1, column=\"listing_url\", value=driver.current_url)\n",
    "\n",
    "        ## Saving to DB\n",
    "        save_df(df, csv=False, db=True)\n",
    "\n",
    "        ## Wait and go to the next page\n",
    "        time.sleep(1)\n",
    "        pagination_button = driver.find_element(\n",
    "            By.XPATH, f\"//*[@data-cy='pagination.next-page']\"\n",
    "        )\n",
    "        actions.move_to_element(pagination_button).perform()\n",
    "\n",
    "        if pagination_button.is_enabled():\n",
    "            pagination_button.click()\n",
    "        else:\n",
    "            break"
   ]
  },
  {
   "cell_type": "code",
   "execution_count": null,
   "id": "b0a204c5-409d-4ad6-86d9-10d0ccc23abd",
   "metadata": {},
   "outputs": [],
   "source": [
    "driver = webdriver.Chrome()\n",
    "actions = ActionChains(driver)"
   ]
  },
  {
   "cell_type": "code",
   "execution_count": null,
   "id": "24d2eb06-4501-4726-8a80-74c075864cc0",
   "metadata": {},
   "outputs": [],
   "source": [
    "listing_url = \"https://www.otodom.pl/pl/oferty/sprzedaz/mieszkanie/warszawa?distanceRadius=0&locations=%5Bcities_6-26%5D&viewType=listing\"\n",
    "crawler(driver, actions, listing_url)"
   ]
  },
  {
   "cell_type": "code",
   "execution_count": null,
   "id": "0417a416-e160-4551-b1e8-2ecb63e3625b",
   "metadata": {},
   "outputs": [],
   "source": []
  },
  {
   "cell_type": "code",
   "execution_count": null,
   "id": "1ab0fc7e-18e7-42f4-b812-c0645ee6ee71",
   "metadata": {},
   "outputs": [],
   "source": []
  },
  {
   "cell_type": "code",
   "execution_count": null,
   "id": "1743a8a2-70ba-4421-9db3-c21109494d6d",
   "metadata": {},
   "outputs": [],
   "source": []
  },
  {
   "cell_type": "code",
   "execution_count": null,
   "id": "946c321a-b7e7-4096-a151-d55b2b1d3f89",
   "metadata": {},
   "outputs": [],
   "source": []
  },
  {
   "cell_type": "code",
   "execution_count": null,
   "id": "85012dcd-dfc7-43dd-a2ba-08d560afd50b",
   "metadata": {},
   "outputs": [],
   "source": []
  },
  {
   "cell_type": "code",
   "execution_count": null,
   "id": "515754c2-e33c-4b69-b488-60cd16ea80bb",
   "metadata": {},
   "outputs": [],
   "source": []
  },
  {
   "cell_type": "code",
   "execution_count": null,
   "id": "7a0ef135-5660-463d-8b79-91d7fa3af18f",
   "metadata": {},
   "outputs": [],
   "source": []
  },
  {
   "cell_type": "code",
   "execution_count": null,
   "id": "fe87d5ac-ff32-4c5c-96ca-d6a7cc295269",
   "metadata": {},
   "outputs": [],
   "source": []
  },
  {
   "cell_type": "code",
   "execution_count": null,
   "id": "16c1018d-23e3-40b5-a54e-599ca0229ff0",
   "metadata": {},
   "outputs": [],
   "source": []
  },
  {
   "cell_type": "code",
   "execution_count": null,
   "id": "a28b3339-f1cc-4e48-ad19-8f180c3f4cb2",
   "metadata": {},
   "outputs": [],
   "source": [
    "driver.find_element(By.XPATH, f\"//*[@data-cy='pagination.go-to-page-2']\").click()"
   ]
  },
  {
   "cell_type": "code",
   "execution_count": null,
   "id": "c08bc50a-cdac-492f-96fd-a986bc66be7f",
   "metadata": {},
   "outputs": [],
   "source": [
    "element = driver.find_element(By.XPATH, f\"//*[@data-cy='pagination.go-to-page-2']\")\n",
    "\n",
    "actions = ActionChains(driver)\n",
    "actions.move_to_element(element).perform()"
   ]
  },
  {
   "cell_type": "code",
   "execution_count": null,
   "id": "5be53abf-a1d7-4275-825e-24e45510b280",
   "metadata": {},
   "outputs": [],
   "source": []
  }
 ],
 "metadata": {
  "kernelspec": {
   "display_name": "Python 3 (ipykernel)",
   "language": "python",
   "name": "python3"
  },
  "language_info": {
   "codemirror_mode": {
    "name": "ipython",
    "version": 3
   },
   "file_extension": ".py",
   "mimetype": "text/x-python",
   "name": "python",
   "nbconvert_exporter": "python",
   "pygments_lexer": "ipython3",
   "version": "3.9.10"
  }
 },
 "nbformat": 4,
 "nbformat_minor": 5
}
