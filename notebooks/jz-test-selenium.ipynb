{
 "cells": [
  {
   "cell_type": "code",
   "execution_count": 1,
   "id": "8f85ceeb-cf18-4b4f-821a-260ddf2ac5c8",
   "metadata": {},
   "outputs": [],
   "source": [
    "from selenium import webdriver\n",
    "from selenium.webdriver.common.by import By\n",
    "from selenium.webdriver.common.keys import Keys"
   ]
  },
  {
   "cell_type": "code",
   "execution_count": 2,
   "id": "18d832c1-3925-481f-8612-cb4b2b209673",
   "metadata": {},
   "outputs": [],
   "source": [
    "driver = webdriver.Chrome()"
   ]
  },
  {
   "cell_type": "code",
   "execution_count": null,
   "id": "779c932d-1f19-46e8-a22e-e18d259ac870",
   "metadata": {},
   "outputs": [],
   "source": [
    "driver.get(\"https://www.python.org\")"
   ]
  },
  {
   "cell_type": "code",
   "execution_count": null,
   "id": "27e6b289-e79c-46fc-816b-6e83aa8927bc",
   "metadata": {},
   "outputs": [],
   "source": [
    "print(driver.title)"
   ]
  },
  {
   "cell_type": "code",
   "execution_count": null,
   "id": "edcee74c-bdd7-4fb0-b4c0-9d6fcae0d269",
   "metadata": {},
   "outputs": [],
   "source": [
    "search_bar = driver.find_element(By.NAME, \"q\")"
   ]
  },
  {
   "cell_type": "code",
   "execution_count": null,
   "id": "6909f2ee-b9ce-49be-af0c-7c29c98d42dd",
   "metadata": {},
   "outputs": [],
   "source": [
    "search_bar.clear()"
   ]
  },
  {
   "cell_type": "code",
   "execution_count": null,
   "id": "e839419d-938a-48fd-928e-c99e5d75167f",
   "metadata": {},
   "outputs": [],
   "source": [
    "search_bar.send_keys(\"getting started with python\")"
   ]
  },
  {
   "cell_type": "code",
   "execution_count": null,
   "id": "2f225737-f64a-4992-a6e2-1c713afe80ce",
   "metadata": {},
   "outputs": [],
   "source": [
    "search_bar.send_keys(Keys.RETURN)"
   ]
  },
  {
   "cell_type": "code",
   "execution_count": null,
   "id": "44c960bd-4756-487e-b82b-871e6cd8be1f",
   "metadata": {},
   "outputs": [],
   "source": []
  },
  {
   "cell_type": "code",
   "execution_count": null,
   "id": "8ec375d4-fc29-42bc-bd14-93e5a0bc834a",
   "metadata": {},
   "outputs": [],
   "source": []
  },
  {
   "cell_type": "code",
   "execution_count": null,
   "id": "af50c087-a1fc-4a4f-857f-628eef4a03b0",
   "metadata": {},
   "outputs": [],
   "source": []
  },
  {
   "cell_type": "code",
   "execution_count": null,
   "id": "a5baf74f-f2d6-40ec-8c93-a56fc804d553",
   "metadata": {},
   "outputs": [],
   "source": [
    "# from selenium import webdriver\n",
    "# driver = webdriver.Chrome(executable_path=yourdriver)"
   ]
  },
  {
   "cell_type": "code",
   "execution_count": 8,
   "id": "e1c863f9-67b9-4427-b74e-1bc605dcac2c",
   "metadata": {},
   "outputs": [],
   "source": [
    "url = \"https://www.otodom.pl/pl/oferty/sprzedaz/mieszkanie/warszawa?distanceRadius=0&locations=%5Bcities_6-26%5D&viewType=listing\"\n",
    "driver.get(url)\n",
    "html = driver.page_source"
   ]
  },
  {
   "cell_type": "code",
   "execution_count": null,
   "id": "fcdd9290-6626-4e5f-97db-42d58f3e7380",
   "metadata": {},
   "outputs": [],
   "source": [
    "# print(html)"
   ]
  },
  {
   "cell_type": "code",
   "execution_count": null,
   "id": "8b23e7a8-fe86-4259-a402-5a869c823dc4",
   "metadata": {},
   "outputs": [],
   "source": [
    "driver.find_element(By.ID, \"onetrust-accept-btn-handler\").click()"
   ]
  },
  {
   "cell_type": "code",
   "execution_count": null,
   "id": "d9923464-eca6-44ca-9cde-4ace61659d86",
   "metadata": {},
   "outputs": [],
   "source": []
  },
  {
   "cell_type": "code",
   "execution_count": null,
   "id": "514346bd-cc5e-4ebb-a7e5-26507351b9ba",
   "metadata": {},
   "outputs": [],
   "source": [
    "driver.execute_script(\"window.scrollTo(0, document.body.scrollHeight);\")"
   ]
  },
  {
   "cell_type": "code",
   "execution_count": null,
   "id": "d218242b-3cf3-4dd3-a1bc-48e8a4df8b45",
   "metadata": {},
   "outputs": [],
   "source": [
    "# driver.find_element(By.XPATH, \"//*[@data-cy='pagination.go-to-page-1']\").click()"
   ]
  },
  {
   "cell_type": "code",
   "execution_count": null,
   "id": "efa49e8c-40b4-4f6a-8eb7-70219afe627f",
   "metadata": {},
   "outputs": [],
   "source": []
  },
  {
   "cell_type": "code",
   "execution_count": null,
   "id": "c4d3b5c7-e007-496f-bfb7-92b4d11d3129",
   "metadata": {},
   "outputs": [],
   "source": []
  },
  {
   "cell_type": "code",
   "execution_count": 4,
   "id": "a7806f8b-301a-43b5-a1c8-676190ca4c01",
   "metadata": {},
   "outputs": [],
   "source": [
    "from bs4 import BeautifulSoup"
   ]
  },
  {
   "cell_type": "code",
   "execution_count": 10,
   "id": "0b60cc34-0b89-42c1-baf4-0240b924dbd4",
   "metadata": {},
   "outputs": [],
   "source": [
    "soup = BeautifulSoup(driver.page_source, \"html.parser\")"
   ]
  },
  {
   "cell_type": "code",
   "execution_count": null,
   "id": "a910951b-1ab4-4817-8190-a8ed1b23db06",
   "metadata": {},
   "outputs": [],
   "source": []
  },
  {
   "cell_type": "code",
   "execution_count": 11,
   "id": "ea5e74b9-bc25-4332-a697-8ce204c0b304",
   "metadata": {},
   "outputs": [],
   "source": [
    "import re"
   ]
  },
  {
   "cell_type": "code",
   "execution_count": 12,
   "id": "bc7c47c8-3c72-4195-a6d5-f2160cdf2269",
   "metadata": {},
   "outputs": [],
   "source": [
    "aaa = soup.find_all(\"button\", {\"data-cy\": re.compile(\"^pagination.go-to-page-\")})"
   ]
  },
  {
   "cell_type": "code",
   "execution_count": 13,
   "id": "f0dfe7d5-5fe3-4e69-99cc-5107afd71168",
   "metadata": {},
   "outputs": [
    {
     "name": "stdout",
     "output_type": "stream",
     "text": [
      "1\n",
      "2\n",
      "3\n",
      "424\n"
     ]
    }
   ],
   "source": [
    "for a in aaa:\n",
    "    print(a.get_text())"
   ]
  },
  {
   "cell_type": "code",
   "execution_count": 14,
   "id": "72506e5a-2a26-43fd-b0e0-ee5f15c2f4aa",
   "metadata": {},
   "outputs": [],
   "source": [
    "newlist = [int(x.get_text()) for x in aaa]"
   ]
  },
  {
   "cell_type": "code",
   "execution_count": 15,
   "id": "ac15768e-fac6-4900-ada5-85d7b6ba150c",
   "metadata": {},
   "outputs": [
    {
     "data": {
      "text/plain": [
       "[1, 2, 3, 424]"
      ]
     },
     "execution_count": 15,
     "metadata": {},
     "output_type": "execute_result"
    }
   ],
   "source": [
    "newlist"
   ]
  },
  {
   "cell_type": "code",
   "execution_count": 16,
   "id": "21dd7afa-fd9c-4bfd-b2c7-1071a96a3214",
   "metadata": {},
   "outputs": [
    {
     "data": {
      "text/plain": [
       "424"
      ]
     },
     "execution_count": 16,
     "metadata": {},
     "output_type": "execute_result"
    }
   ],
   "source": [
    "max(newlist)"
   ]
  },
  {
   "cell_type": "code",
   "execution_count": 17,
   "id": "e1ace85c-f69a-4dfb-ad43-2f7c64bfc75b",
   "metadata": {},
   "outputs": [],
   "source": [
    "# print(soup.prettify())"
   ]
  },
  {
   "cell_type": "code",
   "execution_count": 18,
   "id": "8635496c-5099-42a0-a476-9616bdfa8e2d",
   "metadata": {},
   "outputs": [],
   "source": [
    "offers = soup.find_all(\"li\", {\"data-cy\": \"listing-item\"})"
   ]
  },
  {
   "cell_type": "code",
   "execution_count": 19,
   "id": "97da92aa-955f-4d9d-acf1-3f24c0408d79",
   "metadata": {},
   "outputs": [],
   "source": [
    "# print(offers)"
   ]
  },
  {
   "cell_type": "code",
   "execution_count": 20,
   "id": "bb03a962-5d54-4803-9daf-b7c86ee8e4ce",
   "metadata": {},
   "outputs": [
    {
     "data": {
      "text/plain": [
       "13"
      ]
     },
     "execution_count": 20,
     "metadata": {},
     "output_type": "execute_result"
    }
   ],
   "source": [
    "len(offers)"
   ]
  },
  {
   "cell_type": "code",
   "execution_count": 22,
   "id": "5146801b-4e74-40c9-82f1-20a6e16dbd4d",
   "metadata": {},
   "outputs": [],
   "source": [
    "offer_ids = []\n",
    "for offer in offers:\n",
    "    a = offer.find(\"a\", {\"data-cy\": \"listing-item-link\"})\n",
    "    #print(a[\"href\"])\n",
    "    href_array = a[\"href\"].split(\"/\")\n",
    "    offer_ids.append(href_array[len(href_array)-1])"
   ]
  },
  {
   "cell_type": "code",
   "execution_count": 24,
   "id": "1d2ec54f-452a-4410-b85f-ba9127583409",
   "metadata": {},
   "outputs": [
    {
     "data": {
      "text/plain": [
       "['92-11m2-4-pokoje-metro-pod-blokiem-bezposrednio-ID4jNP0',\n",
       " 'apartament-169-34m2-gdanska-55c-warszawa-penthouse-ID4liLP',\n",
       " 'sprzedam-3-pokojowe-w-swietnej-lokalizacji-ID4lfRE',\n",
       " 'nowe-3-pok-jana-kazimierza-cesja-ID4lOSY',\n",
       " 'mieszkanie-55-65-m-warszawa-ID4lOT8',\n",
       " '2p-56m-ochota-do-remontu-3m-wys-bez-prowizji-ID4lzHS',\n",
       " 'piekne-2-pok-40m2-szeligowska-5-bezposrednio-ID4lCMv',\n",
       " 'przestronny-i-nowy-apartament-przy-podskarbinskiej-ID4lxqN',\n",
       " '3-pokoje-z-opcja-na-4-dwa-balkony-blisko-kolej-ID4lsp4',\n",
       " 'apartament-104-1-m2-westfield-arkadia-ID4lyqB',\n",
       " 'inwestycja-apartament-nowoczesne-51m2-ID4jqc7',\n",
       " 'deweloperski-wysoki-standard-inwestycja-centrum-49-ID4jqcp',\n",
       " 'gotowiec-inwestycyjny-apartament-urzadzony-42-m2-ID4jq7k']"
      ]
     },
     "execution_count": 24,
     "metadata": {},
     "output_type": "execute_result"
    }
   ],
   "source": [
    "offer_ids"
   ]
  },
  {
   "cell_type": "code",
   "execution_count": null,
   "id": "a5b2f8b9-87a6-4a72-8c0f-34cdb5b499b3",
   "metadata": {},
   "outputs": [],
   "source": []
  },
  {
   "cell_type": "code",
   "execution_count": null,
   "id": "af519beb-fe37-41c2-b5a1-9db581910398",
   "metadata": {},
   "outputs": [],
   "source": []
  },
  {
   "cell_type": "code",
   "execution_count": 29,
   "id": "09a71914-9138-4cad-bb18-a8667a3addcb",
   "metadata": {},
   "outputs": [],
   "source": [
    "import pandas as pd\n",
    "import datetime"
   ]
  },
  {
   "cell_type": "code",
   "execution_count": 31,
   "id": "673ef78c-f094-404e-9fac-ec1d7afd35f0",
   "metadata": {},
   "outputs": [
    {
     "data": {
      "text/html": [
       "<div>\n",
       "<style scoped>\n",
       "    .dataframe tbody tr th:only-of-type {\n",
       "        vertical-align: middle;\n",
       "    }\n",
       "\n",
       "    .dataframe tbody tr th {\n",
       "        vertical-align: top;\n",
       "    }\n",
       "\n",
       "    .dataframe thead th {\n",
       "        text-align: right;\n",
       "    }\n",
       "</style>\n",
       "<table border=\"1\" class=\"dataframe\">\n",
       "  <thead>\n",
       "    <tr style=\"text-align: right;\">\n",
       "      <th></th>\n",
       "      <th>create_timestamp</th>\n",
       "      <th>listing_url</th>\n",
       "      <th>offer_id</th>\n",
       "    </tr>\n",
       "  </thead>\n",
       "  <tbody>\n",
       "    <tr>\n",
       "      <th>0</th>\n",
       "      <td>2023-06-09 11:14:21.745644</td>\n",
       "      <td>https://www.otodom.pl/pl/oferty/sprzedaz/miesz...</td>\n",
       "      <td>92-11m2-4-pokoje-metro-pod-blokiem-bezposredni...</td>\n",
       "    </tr>\n",
       "    <tr>\n",
       "      <th>1</th>\n",
       "      <td>2023-06-09 11:14:21.745644</td>\n",
       "      <td>https://www.otodom.pl/pl/oferty/sprzedaz/miesz...</td>\n",
       "      <td>apartament-169-34m2-gdanska-55c-warszawa-penth...</td>\n",
       "    </tr>\n",
       "    <tr>\n",
       "      <th>2</th>\n",
       "      <td>2023-06-09 11:14:21.745644</td>\n",
       "      <td>https://www.otodom.pl/pl/oferty/sprzedaz/miesz...</td>\n",
       "      <td>sprzedam-3-pokojowe-w-swietnej-lokalizacji-ID4...</td>\n",
       "    </tr>\n",
       "    <tr>\n",
       "      <th>3</th>\n",
       "      <td>2023-06-09 11:14:21.745644</td>\n",
       "      <td>https://www.otodom.pl/pl/oferty/sprzedaz/miesz...</td>\n",
       "      <td>nowe-3-pok-jana-kazimierza-cesja-ID4lOSY</td>\n",
       "    </tr>\n",
       "    <tr>\n",
       "      <th>4</th>\n",
       "      <td>2023-06-09 11:14:21.745644</td>\n",
       "      <td>https://www.otodom.pl/pl/oferty/sprzedaz/miesz...</td>\n",
       "      <td>mieszkanie-55-65-m-warszawa-ID4lOT8</td>\n",
       "    </tr>\n",
       "    <tr>\n",
       "      <th>5</th>\n",
       "      <td>2023-06-09 11:14:21.745644</td>\n",
       "      <td>https://www.otodom.pl/pl/oferty/sprzedaz/miesz...</td>\n",
       "      <td>2p-56m-ochota-do-remontu-3m-wys-bez-prowizji-I...</td>\n",
       "    </tr>\n",
       "    <tr>\n",
       "      <th>6</th>\n",
       "      <td>2023-06-09 11:14:21.745644</td>\n",
       "      <td>https://www.otodom.pl/pl/oferty/sprzedaz/miesz...</td>\n",
       "      <td>piekne-2-pok-40m2-szeligowska-5-bezposrednio-I...</td>\n",
       "    </tr>\n",
       "    <tr>\n",
       "      <th>7</th>\n",
       "      <td>2023-06-09 11:14:21.745644</td>\n",
       "      <td>https://www.otodom.pl/pl/oferty/sprzedaz/miesz...</td>\n",
       "      <td>przestronny-i-nowy-apartament-przy-podskarbins...</td>\n",
       "    </tr>\n",
       "    <tr>\n",
       "      <th>8</th>\n",
       "      <td>2023-06-09 11:14:21.745644</td>\n",
       "      <td>https://www.otodom.pl/pl/oferty/sprzedaz/miesz...</td>\n",
       "      <td>3-pokoje-z-opcja-na-4-dwa-balkony-blisko-kolej...</td>\n",
       "    </tr>\n",
       "    <tr>\n",
       "      <th>9</th>\n",
       "      <td>2023-06-09 11:14:21.745644</td>\n",
       "      <td>https://www.otodom.pl/pl/oferty/sprzedaz/miesz...</td>\n",
       "      <td>apartament-104-1-m2-westfield-arkadia-ID4lyqB</td>\n",
       "    </tr>\n",
       "    <tr>\n",
       "      <th>10</th>\n",
       "      <td>2023-06-09 11:14:21.745644</td>\n",
       "      <td>https://www.otodom.pl/pl/oferty/sprzedaz/miesz...</td>\n",
       "      <td>inwestycja-apartament-nowoczesne-51m2-ID4jqc7</td>\n",
       "    </tr>\n",
       "    <tr>\n",
       "      <th>11</th>\n",
       "      <td>2023-06-09 11:14:21.745644</td>\n",
       "      <td>https://www.otodom.pl/pl/oferty/sprzedaz/miesz...</td>\n",
       "      <td>deweloperski-wysoki-standard-inwestycja-centru...</td>\n",
       "    </tr>\n",
       "    <tr>\n",
       "      <th>12</th>\n",
       "      <td>2023-06-09 11:14:21.745644</td>\n",
       "      <td>https://www.otodom.pl/pl/oferty/sprzedaz/miesz...</td>\n",
       "      <td>gotowiec-inwestycyjny-apartament-urzadzony-42-...</td>\n",
       "    </tr>\n",
       "  </tbody>\n",
       "</table>\n",
       "</div>"
      ],
      "text/plain": [
       "             create_timestamp   \n",
       "0  2023-06-09 11:14:21.745644  \\\n",
       "1  2023-06-09 11:14:21.745644   \n",
       "2  2023-06-09 11:14:21.745644   \n",
       "3  2023-06-09 11:14:21.745644   \n",
       "4  2023-06-09 11:14:21.745644   \n",
       "5  2023-06-09 11:14:21.745644   \n",
       "6  2023-06-09 11:14:21.745644   \n",
       "7  2023-06-09 11:14:21.745644   \n",
       "8  2023-06-09 11:14:21.745644   \n",
       "9  2023-06-09 11:14:21.745644   \n",
       "10 2023-06-09 11:14:21.745644   \n",
       "11 2023-06-09 11:14:21.745644   \n",
       "12 2023-06-09 11:14:21.745644   \n",
       "\n",
       "                                          listing_url   \n",
       "0   https://www.otodom.pl/pl/oferty/sprzedaz/miesz...  \\\n",
       "1   https://www.otodom.pl/pl/oferty/sprzedaz/miesz...   \n",
       "2   https://www.otodom.pl/pl/oferty/sprzedaz/miesz...   \n",
       "3   https://www.otodom.pl/pl/oferty/sprzedaz/miesz...   \n",
       "4   https://www.otodom.pl/pl/oferty/sprzedaz/miesz...   \n",
       "5   https://www.otodom.pl/pl/oferty/sprzedaz/miesz...   \n",
       "6   https://www.otodom.pl/pl/oferty/sprzedaz/miesz...   \n",
       "7   https://www.otodom.pl/pl/oferty/sprzedaz/miesz...   \n",
       "8   https://www.otodom.pl/pl/oferty/sprzedaz/miesz...   \n",
       "9   https://www.otodom.pl/pl/oferty/sprzedaz/miesz...   \n",
       "10  https://www.otodom.pl/pl/oferty/sprzedaz/miesz...   \n",
       "11  https://www.otodom.pl/pl/oferty/sprzedaz/miesz...   \n",
       "12  https://www.otodom.pl/pl/oferty/sprzedaz/miesz...   \n",
       "\n",
       "                                             offer_id  \n",
       "0   92-11m2-4-pokoje-metro-pod-blokiem-bezposredni...  \n",
       "1   apartament-169-34m2-gdanska-55c-warszawa-penth...  \n",
       "2   sprzedam-3-pokojowe-w-swietnej-lokalizacji-ID4...  \n",
       "3            nowe-3-pok-jana-kazimierza-cesja-ID4lOSY  \n",
       "4                 mieszkanie-55-65-m-warszawa-ID4lOT8  \n",
       "5   2p-56m-ochota-do-remontu-3m-wys-bez-prowizji-I...  \n",
       "6   piekne-2-pok-40m2-szeligowska-5-bezposrednio-I...  \n",
       "7   przestronny-i-nowy-apartament-przy-podskarbins...  \n",
       "8   3-pokoje-z-opcja-na-4-dwa-balkony-blisko-kolej...  \n",
       "9       apartament-104-1-m2-westfield-arkadia-ID4lyqB  \n",
       "10      inwestycja-apartament-nowoczesne-51m2-ID4jqc7  \n",
       "11  deweloperski-wysoki-standard-inwestycja-centru...  \n",
       "12  gotowiec-inwestycyjny-apartament-urzadzony-42-...  "
      ]
     },
     "execution_count": 31,
     "metadata": {},
     "output_type": "execute_result"
    }
   ],
   "source": [
    "df = pd.DataFrame(offer_ids, columns=[\"offer_id\"])\n",
    "\n",
    "df.insert(loc=0, column=\"create_timestamp\", value=datetime.datetime.now())\n",
    "df.insert(loc=1, column=\"listing_url\", value=driver.current_url)\n",
    "\n",
    "df"
   ]
  },
  {
   "cell_type": "code",
   "execution_count": null,
   "id": "4c165c92-59ec-49a2-8794-5a493039fa3e",
   "metadata": {},
   "outputs": [],
   "source": []
  },
  {
   "cell_type": "code",
   "execution_count": null,
   "id": "63903502-0478-49c4-b323-1f8189763ffe",
   "metadata": {},
   "outputs": [],
   "source": []
  },
  {
   "cell_type": "code",
   "execution_count": null,
   "id": "b338c7b7-41d5-4c60-8cd5-b35112fe9e83",
   "metadata": {},
   "outputs": [],
   "source": []
  },
  {
   "cell_type": "code",
   "execution_count": null,
   "id": "32696e04-5ea7-4e3c-84fc-14aeb664556a",
   "metadata": {},
   "outputs": [],
   "source": [
    "# Pobieranie linków z listingu\n",
    "def get_offers_urls(page_source):\n",
    "    \"\"\"\n",
    "    Docstring\n",
    "    \"\"\"\n",
    "\n",
    "    soup = BeautifulSoup(page_source, \"html.parser\")\n",
    "\n",
    "    listing_items = soup.find_all(\"li\", {\"data-cy\": \"listing-item\"})\n",
    "\n",
    "    offer_urls = []\n",
    "    for item in listing_items:\n",
    "        a = item.find(\"a\", {\"data-cy\": \"listing-item-link\"})\n",
    "        offer_urls.append(a[\"href\"])\n",
    "    \n",
    "    return offer_urls"
   ]
  },
  {
   "cell_type": "code",
   "execution_count": null,
   "id": "661dd634-3f98-46eb-b95c-5e715ef1f0ba",
   "metadata": {},
   "outputs": [],
   "source": [
    "# get_offers_urls(driver.page_source)"
   ]
  },
  {
   "cell_type": "code",
   "execution_count": null,
   "id": "591ad5c5-a332-4ee9-b2b3-7602ee5d8b7b",
   "metadata": {},
   "outputs": [],
   "source": [
    "def crawler(chrome_driver, url):\n",
    "    chrome_driver.get(url)\n",
    "    \n",
    "    "
   ]
  },
  {
   "cell_type": "code",
   "execution_count": null,
   "id": "da4d13f9-9728-46ca-ba79-7d6b8d21d08c",
   "metadata": {},
   "outputs": [],
   "source": []
  },
  {
   "cell_type": "code",
   "execution_count": null,
   "id": "106327ef-9fc7-46c8-b352-4b4ad1e01f10",
   "metadata": {},
   "outputs": [],
   "source": []
  }
 ],
 "metadata": {
  "kernelspec": {
   "display_name": "Python 3 (ipykernel)",
   "language": "python",
   "name": "python3"
  },
  "language_info": {
   "codemirror_mode": {
    "name": "ipython",
    "version": 3
   },
   "file_extension": ".py",
   "mimetype": "text/x-python",
   "name": "python",
   "nbconvert_exporter": "python",
   "pygments_lexer": "ipython3",
   "version": "3.9.10"
  }
 },
 "nbformat": 4,
 "nbformat_minor": 5
}
