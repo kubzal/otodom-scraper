{
 "cells": [
  {
   "cell_type": "code",
   "execution_count": null,
   "id": "4e8fd047-0acd-47b8-97c2-1fa4a124a046",
   "metadata": {},
   "outputs": [],
   "source": [
    "import datetime\n",
    "import time\n",
    "\n",
    "import pandas as pd\n",
    "import psycopg2\n",
    "import requests\n",
    "import unidecode\n",
    "from bs4 import BeautifulSoup\n",
    "from sqlalchemy import create_engine\n",
    "\n",
    "from utils import get_creds"
   ]
  },
  {
   "cell_type": "code",
   "execution_count": null,
   "id": "13619d9c-ff48-4c08-b827-12abbdb26f79",
   "metadata": {},
   "outputs": [],
   "source": [
    "def get_offer_ids_from_db(credentials, dt=datetime.datetime.now().strftime(\"%Y-%m-%d\")):\n",
    "    conn = psycopg2.connect(\n",
    "        database=credentials[\"database\"],\n",
    "        user=credentials[\"username\"],\n",
    "        password=credentials[\"password\"],\n",
    "        host=credentials[\"host\"],\n",
    "        port=credentials[\"port\"],\n",
    "    )\n",
    "\n",
    "    cursor = conn.cursor()\n",
    "\n",
    "    query = f\"\"\"\n",
    "    select offer_id\n",
    "    from public.otodom_offers_ids\n",
    "    where date(create_timestamp) = '{dt}'\n",
    "    \"\"\"\n",
    "    cursor.execute(query)\n",
    "    result = cursor.fetchall()\n",
    "    conn.close()\n",
    "\n",
    "    offer_ids = [item[0] for item in result]\n",
    "    return offer_ids"
   ]
  },
  {
   "cell_type": "code",
   "execution_count": null,
   "id": "a0248023-0482-4d47-b8cd-dbfc034aec04",
   "metadata": {},
   "outputs": [],
   "source": [
    "offer_ids = get_offer_ids_from_db(get_creds())\n",
    "# offer_ids"
   ]
  },
  {
   "cell_type": "code",
   "execution_count": null,
   "id": "3ff8138c-6791-45c6-879c-29e40f68d542",
   "metadata": {},
   "outputs": [],
   "source": [
    "def get_offer_params(offer_url):\n",
    "    \"\"\"\n",
    "    Gets offer params by offer ID\n",
    "    \"\"\"\n",
    "    r = requests.get(offer_url)\n",
    "    soup = BeautifulSoup(r.content, \"html.parser\")\n",
    "\n",
    "    offer_params = soup.find_all(\"div\", {\"class\": \"css-1wi2w6s enb64yk4\"})\n",
    "\n",
    "    results = dict()\n",
    "\n",
    "    price = soup.find(\"strong\", {\"aria-label\": \"Cena\"}).get_text()\n",
    "    results[\"price\"] = unidecode.unidecode(price)\n",
    "\n",
    "    price_m2 = soup.find(\"div\", {\"aria-label\": \"Cena za metr kwadratowy\"}).get_text()\n",
    "    results[\"price_m2\"] = unidecode.unidecode(price_m2)\n",
    "\n",
    "    address = soup.find(\"a\", {\"aria-label\": \"Adres\"}).get_text()\n",
    "    results[\"address\"] = unidecode.unidecode(address)\n",
    "\n",
    "    for line in offer_params:\n",
    "        k = unidecode.unidecode(\n",
    "            str(line.parent.parent[\"aria-label\"])\n",
    "            .replace(\" / \", \"_\")\n",
    "            .replace(\" \", \"_\")\n",
    "            .lower()\n",
    "        )\n",
    "        v = unidecode.unidecode(str(line.get_text()).strip())\n",
    "        results[k] = v\n",
    "\n",
    "    return results"
   ]
  },
  {
   "cell_type": "code",
   "execution_count": null,
   "id": "fdf86011-8fbb-4707-b900-f74df259e44f",
   "metadata": {},
   "outputs": [],
   "source": [
    "def save_offers_params_to_db(df, credentials):\n",
    "    engine = create_engine(\n",
    "        f\"postgresql://{credentials['username']}:{credentials['password']}\"\n",
    "        f\"@{credentials['host']}:{credentials['port']}/{credentials['database']}\"\n",
    "    )\n",
    "    table_name = \"otodom_offers_params_test1\"\n",
    "\n",
    "    print(\n",
    "        f\"Saving {len(df.index)} rows into table: \"\n",
    "        f\"{credentials['database']}.{table_name}\"\n",
    "    )\n",
    "    df.to_sql(table_name, engine, if_exists=\"append\", index=False)"
   ]
  },
  {
   "cell_type": "code",
   "execution_count": null,
   "id": "080562fd-b40b-4366-8ddd-534b61312c62",
   "metadata": {},
   "outputs": [],
   "source": [
    "def get_offers_loop(offer_ids, bulk = 10):\n",
    "    results = list()\n",
    "    for id in offer_ids:\n",
    "        url = f\"https://www.otodom.pl/pl/oferta/{id}\"\n",
    "    \n",
    "        offer = dict()\n",
    "        offer[\"create_timestamp\"] = datetime.datetime.now()\n",
    "        offer[\"id\"] = id\n",
    "        offer = {**offer, **get_offer_params(url)}\n",
    "    \n",
    "        results.append(offer)\n",
    "        if len(results) == bulk:\n",
    "            df = pd.DataFrame(results)\n",
    "            save_offers_params_to_db(df, get_creds())\n",
    "            results.clear()\n",
    "    \n",
    "        time.sleep(2)\n",
    "    \n",
    "    if len(results) < bulk and len(results) > 0:\n",
    "        df = pd.DataFrame(results)\n",
    "        save_offers_params_to_db(df, get_creds())"
   ]
  },
  {
   "cell_type": "code",
   "execution_count": null,
   "id": "e48babe0-d790-459f-832e-e51362a7a6ea",
   "metadata": {},
   "outputs": [],
   "source": []
  }
 ],
 "metadata": {
  "kernelspec": {
   "display_name": "Python 3 (ipykernel)",
   "language": "python",
   "name": "python3"
  },
  "language_info": {
   "codemirror_mode": {
    "name": "ipython",
    "version": 3
   },
   "file_extension": ".py",
   "mimetype": "text/x-python",
   "name": "python",
   "nbconvert_exporter": "python",
   "pygments_lexer": "ipython3",
   "version": "3.9.10"
  }
 },
 "nbformat": 4,
 "nbformat_minor": 5
}
