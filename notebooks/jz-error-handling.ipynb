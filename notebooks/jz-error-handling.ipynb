{
 "cells": [
  {
   "cell_type": "code",
   "execution_count": 1,
   "id": "7100e1df-d868-4975-943b-1f9a658b7876",
   "metadata": {},
   "outputs": [],
   "source": [
    "import sys\n",
    "\n",
    "sys.path.append(\"../\")"
   ]
  },
  {
   "cell_type": "code",
   "execution_count": 2,
   "id": "fa935b98-5873-4705-bf36-9643aaf783d5",
   "metadata": {},
   "outputs": [],
   "source": [
    "from otodom_offers_scrapper import create_offers_df, get_offer_params"
   ]
  },
  {
   "cell_type": "code",
   "execution_count": 3,
   "id": "afd29b6b-e49a-443f-b6e5-507e76effaff",
   "metadata": {},
   "outputs": [],
   "source": [
    "url = (\n",
    "    \"https://www.otodom.pl/pl/oferta/\"\n",
    "    \"komfortowe-90m2-plus-125m2-ogrodka-przy-ul-olesin-ID4ke6e\"\n",
    ")"
   ]
  },
  {
   "cell_type": "code",
   "execution_count": 4,
   "id": "7773c16e-d951-4dc7-8249-38a900bb20f2",
   "metadata": {},
   "outputs": [
    {
     "name": "stdout",
     "output_type": "stream",
     "text": [
      "https://www.otodom.pl/pl/oferta/komfortowe-90m2-plus-125m2-ogrodka-przy-ul-olesin-ID4ke6e\n"
     ]
    }
   ],
   "source": [
    "print(url)"
   ]
  },
  {
   "cell_type": "code",
   "execution_count": 5,
   "id": "31faff58-aaf0-4943-9c77-292b5173dbe5",
   "metadata": {},
   "outputs": [
    {
     "data": {
      "text/plain": [
       "{'price': '799 000 zl',\n",
       " 'price_m2': '8 878 zl/m2',\n",
       " 'address': 'Warszawa, Bialoleka, ul. Olesinska ',\n",
       " 'powierzchnia': '90 m2',\n",
       " 'liczba_pokoi': '5',\n",
       " 'stan_wykonczenia': 'do wykonczenia',\n",
       " 'rynek': 'pierwotny',\n",
       " 'typ_ogloszeniodawcy': 'prywatny',\n",
       " 'winda': 'nie'}"
      ]
     },
     "execution_count": 5,
     "metadata": {},
     "output_type": "execute_result"
    }
   ],
   "source": [
    "get_offer_params(url)"
   ]
  },
  {
   "cell_type": "code",
   "execution_count": 8,
   "id": "7bfdef3d-547c-414d-b9b4-262ad9eb9d5c",
   "metadata": {},
   "outputs": [],
   "source": [
    "offer_ids = [\n",
    "    \"komfortowe-90m2-plus-125m2-ogrodka-przy-ul-olesin-ID4ke6e\",\n",
    "    \"bezposrednio-2-pokoje-bliska-wola-nowy-blok-ID4lDG6000\",\n",
    "    \"wyremontowane-mieszkanie-w-cichej-lokalizacji-ID4iRNv\"\n",
    "    \"przestronne-dwupokojowe-z-tarasikiem-ID4le9e0000\",\n",
    "    \"metro-stoklosy-3p-68-8m2-balkon-2xschowek-panorama-ID4jXP2000\",\n",
    "]"
   ]
  },
  {
   "cell_type": "code",
   "execution_count": 9,
   "id": "09bf5739-920a-4c5c-86af-afcfcbeb67f1",
   "metadata": {},
   "outputs": [
    {
     "name": "stderr",
     "output_type": "stream",
     "text": [
      "2023-06-10 11:33:09,973 - otodom_offers_scrapper - WARNING - Broken url: https://www.otodom.pl/pl/oferta/bezposrednio-2-pokoje-bliska-wola-nowy-blok-ID4lDG6000\n",
      "2023-06-10 11:33:10,124 - otodom_offers_scrapper - WARNING - Broken url: https://www.otodom.pl/pl/oferta/wyremontowane-mieszkanie-w-cichej-lokalizacji-ID4iRNvprzestronne-dwupokojowe-z-tarasikiem-ID4le9e0000\n",
      "2023-06-10 11:33:10,676 - otodom_offers_scrapper - WARNING - Broken url: https://www.otodom.pl/pl/oferta/metro-stoklosy-3p-68-8m2-balkon-2xschowek-panorama-ID4jXP2000\n"
     ]
    },
    {
     "data": {
      "text/html": [
       "<div>\n",
       "<style scoped>\n",
       "    .dataframe tbody tr th:only-of-type {\n",
       "        vertical-align: middle;\n",
       "    }\n",
       "\n",
       "    .dataframe tbody tr th {\n",
       "        vertical-align: top;\n",
       "    }\n",
       "\n",
       "    .dataframe thead th {\n",
       "        text-align: right;\n",
       "    }\n",
       "</style>\n",
       "<table border=\"1\" class=\"dataframe\">\n",
       "  <thead>\n",
       "    <tr style=\"text-align: right;\">\n",
       "      <th></th>\n",
       "      <th>create_timestamp</th>\n",
       "      <th>id</th>\n",
       "      <th>price</th>\n",
       "      <th>price_m2</th>\n",
       "      <th>address</th>\n",
       "      <th>powierzchnia</th>\n",
       "      <th>liczba_pokoi</th>\n",
       "      <th>stan_wykonczenia</th>\n",
       "      <th>rynek</th>\n",
       "      <th>typ_ogloszeniodawcy</th>\n",
       "      <th>winda</th>\n",
       "    </tr>\n",
       "  </thead>\n",
       "  <tbody>\n",
       "    <tr>\n",
       "      <th>0</th>\n",
       "      <td>2023-06-10 11:33:09.666402</td>\n",
       "      <td>komfortowe-90m2-plus-125m2-ogrodka-przy-ul-ole...</td>\n",
       "      <td>799 000 zl</td>\n",
       "      <td>8 878 zl/m2</td>\n",
       "      <td>Warszawa, Bialoleka, ul. Olesinska</td>\n",
       "      <td>90 m2</td>\n",
       "      <td>5</td>\n",
       "      <td>do wykonczenia</td>\n",
       "      <td>pierwotny</td>\n",
       "      <td>prywatny</td>\n",
       "      <td>nie</td>\n",
       "    </tr>\n",
       "    <tr>\n",
       "      <th>1</th>\n",
       "      <td>2023-06-10 11:33:09.980996</td>\n",
       "      <td>bezposrednio-2-pokoje-bliska-wola-nowy-blok-ID...</td>\n",
       "      <td>799 000 zl</td>\n",
       "      <td>8 878 zl/m2</td>\n",
       "      <td>Warszawa, Bialoleka, ul. Olesinska</td>\n",
       "      <td>90 m2</td>\n",
       "      <td>5</td>\n",
       "      <td>do wykonczenia</td>\n",
       "      <td>pierwotny</td>\n",
       "      <td>prywatny</td>\n",
       "      <td>nie</td>\n",
       "    </tr>\n",
       "    <tr>\n",
       "      <th>2</th>\n",
       "      <td>2023-06-10 11:33:10.132079</td>\n",
       "      <td>wyremontowane-mieszkanie-w-cichej-lokalizacji-...</td>\n",
       "      <td>799 000 zl</td>\n",
       "      <td>8 878 zl/m2</td>\n",
       "      <td>Warszawa, Bialoleka, ul. Olesinska</td>\n",
       "      <td>90 m2</td>\n",
       "      <td>5</td>\n",
       "      <td>do wykonczenia</td>\n",
       "      <td>pierwotny</td>\n",
       "      <td>prywatny</td>\n",
       "      <td>nie</td>\n",
       "    </tr>\n",
       "    <tr>\n",
       "      <th>3</th>\n",
       "      <td>2023-06-10 11:33:10.683867</td>\n",
       "      <td>metro-stoklosy-3p-68-8m2-balkon-2xschowek-pano...</td>\n",
       "      <td>799 000 zl</td>\n",
       "      <td>8 878 zl/m2</td>\n",
       "      <td>Warszawa, Bialoleka, ul. Olesinska</td>\n",
       "      <td>90 m2</td>\n",
       "      <td>5</td>\n",
       "      <td>do wykonczenia</td>\n",
       "      <td>pierwotny</td>\n",
       "      <td>prywatny</td>\n",
       "      <td>nie</td>\n",
       "    </tr>\n",
       "  </tbody>\n",
       "</table>\n",
       "</div>"
      ],
      "text/plain": [
       "            create_timestamp   \n",
       "0 2023-06-10 11:33:09.666402  \\\n",
       "1 2023-06-10 11:33:09.980996   \n",
       "2 2023-06-10 11:33:10.132079   \n",
       "3 2023-06-10 11:33:10.683867   \n",
       "\n",
       "                                                  id       price     price_m2   \n",
       "0  komfortowe-90m2-plus-125m2-ogrodka-przy-ul-ole...  799 000 zl  8 878 zl/m2  \\\n",
       "1  bezposrednio-2-pokoje-bliska-wola-nowy-blok-ID...  799 000 zl  8 878 zl/m2   \n",
       "2  wyremontowane-mieszkanie-w-cichej-lokalizacji-...  799 000 zl  8 878 zl/m2   \n",
       "3  metro-stoklosy-3p-68-8m2-balkon-2xschowek-pano...  799 000 zl  8 878 zl/m2   \n",
       "\n",
       "                               address powierzchnia liczba_pokoi   \n",
       "0  Warszawa, Bialoleka, ul. Olesinska         90 m2            5  \\\n",
       "1  Warszawa, Bialoleka, ul. Olesinska         90 m2            5   \n",
       "2  Warszawa, Bialoleka, ul. Olesinska         90 m2            5   \n",
       "3  Warszawa, Bialoleka, ul. Olesinska         90 m2            5   \n",
       "\n",
       "  stan_wykonczenia      rynek typ_ogloszeniodawcy winda  \n",
       "0   do wykonczenia  pierwotny            prywatny   nie  \n",
       "1   do wykonczenia  pierwotny            prywatny   nie  \n",
       "2   do wykonczenia  pierwotny            prywatny   nie  \n",
       "3   do wykonczenia  pierwotny            prywatny   nie  "
      ]
     },
     "execution_count": 9,
     "metadata": {},
     "output_type": "execute_result"
    }
   ],
   "source": [
    "create_offers_df(offer_ids)"
   ]
  },
  {
   "cell_type": "code",
   "execution_count": null,
   "id": "6a7c756a-46cb-4c31-bad2-01cc454c400b",
   "metadata": {},
   "outputs": [],
   "source": []
  }
 ],
 "metadata": {
  "kernelspec": {
   "display_name": "Python 3 (ipykernel)",
   "language": "python",
   "name": "python3"
  },
  "language_info": {
   "codemirror_mode": {
    "name": "ipython",
    "version": 3
   },
   "file_extension": ".py",
   "mimetype": "text/x-python",
   "name": "python",
   "nbconvert_exporter": "python",
   "pygments_lexer": "ipython3",
   "version": "3.9.10"
  }
 },
 "nbformat": 4,
 "nbformat_minor": 5
}
