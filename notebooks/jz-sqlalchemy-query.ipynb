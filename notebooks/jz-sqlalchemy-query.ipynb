{
 "cells": [
  {
   "cell_type": "code",
   "execution_count": 1,
   "id": "35a3d736-6771-4e0c-9ec6-f8783b565266",
   "metadata": {},
   "outputs": [],
   "source": [
    "import sys\n",
    "\n",
    "sys.path.append(\"../\")"
   ]
  },
  {
   "cell_type": "code",
   "execution_count": 2,
   "id": "3494f6a9-16d0-431a-99b7-ff42d3b5bac1",
   "metadata": {},
   "outputs": [],
   "source": [
    "from utils import get_creds\n",
    "\n",
    "credentials = get_creds(\"../database.txt\")"
   ]
  },
  {
   "cell_type": "code",
   "execution_count": 3,
   "id": "2dc1d1b3-b5dc-4589-af1b-0039858dc328",
   "metadata": {},
   "outputs": [],
   "source": [
    "from sqlalchemy import create_engine, text"
   ]
  },
  {
   "cell_type": "code",
   "execution_count": 4,
   "id": "f139241e-8d7f-4125-acf9-fc2226c59d82",
   "metadata": {},
   "outputs": [],
   "source": [
    "engine = create_engine(\n",
    "    f\"postgresql://{credentials['username']}:{credentials['password']}\"\n",
    "    f\"@{credentials['host']}:{credentials['port']}/{credentials['database']}\"\n",
    ")"
   ]
  },
  {
   "cell_type": "code",
   "execution_count": 6,
   "id": "3155765b-3c78-42f2-8734-606389fc9363",
   "metadata": {},
   "outputs": [],
   "source": [
    "query = \"select offer_id from public.otodom_offers_ids limit 10\"\n",
    "\n",
    "with engine.connect() as conn:\n",
    "    result = conn.execute(text(query))\n",
    "\n",
    "    offer_ids = [item[0] for item in result]"
   ]
  },
  {
   "cell_type": "code",
   "execution_count": 7,
   "id": "0c7b934c-9896-4909-af0c-456248977dfc",
   "metadata": {},
   "outputs": [
    {
     "data": {
      "text/plain": [
       "['wykonczone-lokale-gotowe-do-uzytku-z-operatorem-ID4k6hm',\n",
       " 'muranow-kawalerka-z-osobna-kuchnia-po-remoncie-ID4lLYU',\n",
       " 'mieszkanie-do-remontu-ID4liO0',\n",
       " 'osiedle-zamkniete-nowy-apartament-na-sprzedaz-ID4lFuv',\n",
       " 'mieszkanie-na-sprzedaz-tarchomin-milenijna-ID4kkMr',\n",
       " 'wyjatkowy-apartament-w-kameralnej-inwestycji-ID4iIqH',\n",
       " 'mieszkanie-warszawa-ursus-ID4lqZ5',\n",
       " 'gotowy-apartament-2-pokoje-38m2-z-meblami-ID3hWDC',\n",
       " 'apartament-z-recepcja-blisko-centrum-wykonczony-ID3C7RK',\n",
       " 'bliska-wola-2-pokoje-tylko-3-km-centrum-metro-ID3PKDS']"
      ]
     },
     "execution_count": 7,
     "metadata": {},
     "output_type": "execute_result"
    }
   ],
   "source": [
    "offer_ids"
   ]
  },
  {
   "cell_type": "code",
   "execution_count": null,
   "id": "9a92b67f-f93e-4a43-b1ab-5f22a6d3ded9",
   "metadata": {},
   "outputs": [],
   "source": []
  }
 ],
 "metadata": {
  "kernelspec": {
   "display_name": "Python 3 (ipykernel)",
   "language": "python",
   "name": "python3"
  },
  "language_info": {
   "codemirror_mode": {
    "name": "ipython",
    "version": 3
   },
   "file_extension": ".py",
   "mimetype": "text/x-python",
   "name": "python",
   "nbconvert_exporter": "python",
   "pygments_lexer": "ipython3",
   "version": "3.9.10"
  }
 },
 "nbformat": 4,
 "nbformat_minor": 5
}
