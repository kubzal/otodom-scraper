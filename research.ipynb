{
 "cells": [
  {
   "cell_type": "code",
   "execution_count": null,
   "metadata": {},
   "outputs": [],
   "source": [
    "import json\n",
    "import time\n",
    "\n",
    "import pandas as pd\n",
    "import requests\n",
    "import unidecode\n",
    "from bs4 import BeautifulSoup"
   ]
  },
  {
   "cell_type": "code",
   "execution_count": null,
   "metadata": {},
   "outputs": [],
   "source": [
    "# Get database credentials\n",
    "\n",
    "f = open(\"database.txt\", \"r\")\n",
    "lines = f.readlines()\n",
    "\n",
    "username = lines[0].replace(\"\\n\", \"\")\n",
    "password = lines[1].replace(\"\\n\", \"\")\n",
    "host = lines[2].replace(\"\\n\", \"\")\n",
    "port = lines[3].replace(\"\\n\", \"\")\n",
    "table = lines[4].replace(\"\\n\", \"\")\n",
    "f.close()\n",
    "\n",
    "# print(\n",
    "#     f\"username: {username}, password: {password}, host: {host}, port: {port}, table: {table}\"\n",
    "# )"
   ]
  },
  {
   "cell_type": "code",
   "execution_count": null,
   "metadata": {},
   "outputs": [],
   "source": [
    "offer_url_1 = \"https://www.otodom.pl/pl/oferta/2-pok-55-m2-z-widokiem-na-ogrod-krasinskich-ID4lszi\"\n",
    "offer_url_2 = (\n",
    "    \"https://www.otodom.pl/pl/oferta/widokowe-3-pokoje-przy-metrze-wawrzyszew-ID4lxZ0\"\n",
    ")\n",
    "listing_url_1 = \"https://www.otodom.pl/pl/oferty/sprzedaz/mieszkanie/warszawa?distanceRadius=0&locations=%5Bcities_6-26%5D&viewType=listing\""
   ]
  },
  {
   "cell_type": "code",
   "execution_count": null,
   "metadata": {},
   "outputs": [],
   "source": [
    "# Pobieranie parametrów oferty\n",
    "def get_offer_params(offer_url):\n",
    "    \"\"\"\n",
    "    Docstring\n",
    "    \"\"\"\n",
    "    r = requests.get(offer_url)\n",
    "    soup = BeautifulSoup(r.content, \"html.parser\")\n",
    "\n",
    "    offer_params = soup.find_all(\"div\", {\"class\": \"css-1wi2w6s enb64yk4\"})\n",
    "\n",
    "    results = dict()\n",
    "\n",
    "    price = soup.find(\"strong\", {\"aria-label\": \"Cena\"})\n",
    "    results[\"price\"] = unidecode.unidecode(price.text)\n",
    "\n",
    "    price_m2 = soup.find(\"div\", {\"aria-label\": \"Cena za metr kwadratowy\"})\n",
    "    results[\"price_m2\"] = unidecode.unidecode(price_m2.text)\n",
    "\n",
    "    address = soup.find(\"a\", {\"aria-label\": \"Adres\"})\n",
    "    results[\"address\"] = unidecode.unidecode(address.text)\n",
    "\n",
    "    for line in offer_params:\n",
    "        k = unidecode.unidecode(\n",
    "            str(line.parent.parent[\"aria-label\"])\n",
    "            .replace(\" / \", \"_\")\n",
    "            .replace(\" \", \"_\")\n",
    "            .lower()\n",
    "        )\n",
    "        v = unidecode.unidecode(str(line.text).strip())\n",
    "        results[k] = v\n",
    "\n",
    "    return results"
   ]
  },
  {
   "cell_type": "code",
   "execution_count": null,
   "metadata": {},
   "outputs": [],
   "source": [
    "# Pobieranie linków z listingu\n",
    "def get_offers_urls(listing_url):\n",
    "    \"\"\"\n",
    "    Docstring\n",
    "    \"\"\"\n",
    "\n",
    "    r = requests.get(listing_url)\n",
    "    soup = BeautifulSoup(r.content, \"html.parser\")\n",
    "\n",
    "    urls_json = soup.find(\"script\", {\"id\": \"__NEXT_DATA__\"}).get_text()\n",
    "\n",
    "    json_dict = json.loads(urls_json)\n",
    "    offers = json_dict[\"props\"][\"pageProps\"][\"schemaMarkupData\"][\"@graph\"][2][\"offers\"][\n",
    "        \"offers\"\n",
    "    ]\n",
    "\n",
    "    offers_list = []\n",
    "    for offer in offers:\n",
    "        offers_list.append({\"name\": offer[\"name\"], \"url\": offer[\"url\"]})\n",
    "\n",
    "    return offers_list"
   ]
  },
  {
   "cell_type": "code",
   "execution_count": null,
   "metadata": {},
   "outputs": [],
   "source": [
    "# Pobieranie ofert z linków z listingu\n",
    "def create_offers_table(offers_list):\n",
    "    \"\"\"\n",
    "    Docstring\n",
    "    \"\"\"\n",
    "    results = list()\n",
    "    for offer in offers_list:\n",
    "        enriched_offer = dict()\n",
    "\n",
    "        enriched_offer[\"offer_name\"] = offer[\"name\"]\n",
    "        enriched_offer[\"offer_url\"] = offer[\"url\"]\n",
    "\n",
    "        enriched_offer = {**enriched_offer, **get_offer_params(offer[\"url\"])}\n",
    "        results.append(enriched_offer)\n",
    "\n",
    "    return results"
   ]
  },
  {
   "cell_type": "code",
   "execution_count": null,
   "metadata": {},
   "outputs": [],
   "source": [
    "offers_listing = create_offers_table(get_offers_urls(listing_url_1))"
   ]
  },
  {
   "cell_type": "code",
   "execution_count": null,
   "metadata": {},
   "outputs": [],
   "source": [
    "df = pd.DataFrame(offers_listing)"
   ]
  },
  {
   "cell_type": "code",
   "execution_count": null,
   "metadata": {},
   "outputs": [],
   "source": [
    "import datetime"
   ]
  },
  {
   "cell_type": "code",
   "execution_count": null,
   "metadata": {},
   "outputs": [],
   "source": []
  },
  {
   "cell_type": "code",
   "execution_count": null,
   "metadata": {},
   "outputs": [],
   "source": [
    "df.insert(loc=0, column=\"create_timestamp\", value=datetime.datetime.now())"
   ]
  },
  {
   "cell_type": "code",
   "execution_count": null,
   "metadata": {},
   "outputs": [],
   "source": [
    "df"
   ]
  },
  {
   "cell_type": "code",
   "execution_count": null,
   "metadata": {},
   "outputs": [],
   "source": [
    "from sqlalchemy import create_engine\n",
    "\n",
    "engine = create_engine(f\"postgresql://{username}:{password}@{host}:{port}/{table}\")\n",
    "df.to_sql(\"otodom_offers_1\", engine, if_exists=\"append\", index=False)"
   ]
  },
  {
   "cell_type": "code",
   "execution_count": null,
   "metadata": {},
   "outputs": [],
   "source": []
  },
  {
   "cell_type": "code",
   "execution_count": null,
   "metadata": {},
   "outputs": [],
   "source": []
  },
  {
   "cell_type": "code",
   "execution_count": null,
   "metadata": {},
   "outputs": [],
   "source": [
    "df.to_csv(f\"results_{int(time.time())}.csv\", index=False)"
   ]
  },
  {
   "cell_type": "code",
   "execution_count": null,
   "metadata": {},
   "outputs": [],
   "source": []
  }
 ],
 "metadata": {
  "kernelspec": {
   "display_name": "Python 3 (ipykernel)",
   "language": "python",
   "name": "python3"
  },
  "language_info": {
   "codemirror_mode": {
    "name": "ipython",
    "version": 3
   },
   "file_extension": ".py",
   "mimetype": "text/x-python",
   "name": "python",
   "nbconvert_exporter": "python",
   "pygments_lexer": "ipython3",
   "version": "3.9.10"
  }
 },
 "nbformat": 4,
 "nbformat_minor": 4
}
